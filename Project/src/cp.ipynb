{
 "cells": [
  {
   "cell_type": "code",
   "execution_count": 3,
   "metadata": {},
   "outputs": [],
   "source": [
    "import numpy as np"
   ]
  },
  {
   "cell_type": "code",
   "execution_count": 4,
   "metadata": {},
   "outputs": [],
   "source": [
    "def upshift(a, index, n):\n",
    "  '''\n",
    "  Shift the collumn with index with numpy.roll(collumn, -n)\n",
    "  '''\n",
    "  col = a[:, index]\n",
    "  shift_col = np.roll(col, -n)\n",
    "  for i in range(len(a)):\n",
    "    a[i][index] = shift_col[i]\n",
    "  \n",
    "  return a"
   ]
  },
  {
   "cell_type": "code",
   "execution_count": 5,
   "metadata": {},
   "outputs": [],
   "source": [
    "def downshift(a, index, n):\n",
    "  '''\n",
    "  Shift the collumn with index with numpy.roll(collumn, n)\n",
    "  '''\n",
    "  col = a[:, index]\n",
    "  shift_col = np.roll(col, n)\n",
    "  for i in range(len(a)):\n",
    "    a[i][index] = shift_col[i]\n",
    "  \n",
    "  return a"
   ]
  },
  {
   "cell_type": "code",
   "execution_count": 6,
   "metadata": {},
   "outputs": [],
   "source": [
    "def rotate(n):\n",
    "  '''\n",
    "  Rotate 180 the binary bit string of n and convert to integer\n",
    "  '''\n",
    "  bits = \"{0:b}\".format(n)\n",
    "  return int(bits[::-1], 2)"
   ]
  },
  {
   "cell_type": "code",
   "execution_count": 7,
   "metadata": {},
   "outputs": [],
   "source": [
    "from PIL import Image\n",
    "import cv2\n",
    "import random\n",
    "import numpy as np\n",
    "import sys\n",
    "import json"
   ]
  },
  {
   "cell_type": "code",
   "execution_count": 8,
   "metadata": {},
   "outputs": [],
   "source": [
    "def read_image(image_path):\n",
    "  image = Image.open(image_path)\n",
    "  image = image.convert('RGB')\n",
    "  image = np.array(image)\n",
    "  return image"
   ]
  },
  {
   "cell_type": "code",
   "execution_count": 9,
   "metadata": {},
   "outputs": [],
   "source": [
    "def save_image(image, image_save_path):\n",
    "  save_img = Image.fromarray(image)\n",
    "  save_img = save_img.save(image_save_path)\n",
    "  return"
   ]
  },
  {
   "cell_type": "code",
   "execution_count": 10,
   "metadata": {},
   "outputs": [],
   "source": [
    "def create_key(image, ITER_MAX=2, alpha=8):\n",
    "    # Create vector Kr and Kc\n",
    "    Kr = [random.randint(0, 2 ** alpha - 1) for i in range(image.shape[0])]\n",
    "    Kc = [random.randint(0, 2 ** alpha - 1) for i in range(image.shape[1])]\n",
    "\n",
    "    dict_key = {\"Kr\": Kr,\n",
    "                \"Kc\": Kc,\n",
    "                \"ITER\": ITER_MAX\n",
    "                }\n",
    "    return dict_key"
   ]
  },
  {
   "cell_type": "code",
   "execution_count": 11,
   "metadata": {},
   "outputs": [],
   "source": [
    "def save_key(dict_key, save_path=\"key.json\"):\n",
    "  with open(save_path, \"w\") as F:\n",
    "    json.dump(dict_key, F, indent=4)"
   ]
  },
  {
   "cell_type": "code",
   "execution_count": 12,
   "metadata": {},
   "outputs": [],
   "source": [
    "def load_key(save_path=\"key.json\"):\n",
    "    with open(save_path, \"r\") as F:\n",
    "        dict_key = json.load(F)\n",
    "\n",
    "    Kr = dict_key[\"Kr\"]\n",
    "    Kc = dict_key[\"Kc\"]\n",
    "    ITER_MAX = dict_key[\"ITER\"]\n",
    "\n",
    "    return Kr, Kc, ITER_MAX"
   ]
  },
  {
   "cell_type": "code",
   "execution_count": 13,
   "metadata": {},
   "outputs": [],
   "source": [
    "def encrypt_image(image, key_path=\"key.json\"):\n",
    "  # Load Key\n",
    "  Kr, Kc, ITER_MAX = load_key(save_path=key_path)\n",
    "\n",
    "  # Split channels\n",
    "  r = np.array(image[:, :, 0])\n",
    "  g = np.array(image[:, :, 1])\n",
    "  b = np.array(image[:, :, 2])\n",
    "\n",
    "  for iter in range(ITER_MAX):\n",
    "    # For each row\n",
    "    for i in range(image.shape[0]):\n",
    "      r_modulus = sum(r[i]) % 2 \n",
    "      g_modulus = sum(g[i]) % 2\n",
    "      b_modulus = sum(b[i]) % 2\n",
    "      r[i] = np.roll(r[i], -Kr[i]) if r_modulus else np.roll(r[i], Kr[i])\n",
    "      g[i] = np.roll(g[i], -Kr[i]) if g_modulus else np.roll(g[i], Kr[i])\n",
    "      b[i] = np.roll(b[i], -Kr[i]) if b_modulus else np.roll(b[i], Kr[i])\n",
    "  \n",
    "    # For each column \n",
    "    for i in range(image.shape[1]):\n",
    "      r_modulus = sum(r[:, i]) % 2\n",
    "      g_modulus = sum(g[:, i]) % 2\n",
    "      b_modulus = sum(b[:, i]) % 2\n",
    "      r = downshift(r, i, Kc[i]) if r_modulus else upshift(r, i, Kc[i])\n",
    "      g = downshift(g, i, Kc[i]) if g_modulus else upshift(g, i, Kc[i])\n",
    "      b = downshift(b, i, Kc[i]) if b_modulus else upshift(b, i, Kc[i])\n",
    "\n",
    "    # For each row\n",
    "    for i in range(image.shape[0]):\n",
    "      for j in range(image.shape[1]):\n",
    "        if(i%2==1):\n",
    "          r[i][j] = r[i][j] ^ Kc[j]\n",
    "          g[i][j] = g[i][j] ^ Kc[j]\n",
    "          b[i][j] = b[i][j] ^ Kc[j]\n",
    "        else:\n",
    "          r[i][j] = r[i][j] ^ rotate(Kc[j])\n",
    "          g[i][j] = g[i][j] ^ rotate(Kc[j])\n",
    "          b[i][j] = b[i][j] ^ rotate(Kc[j])\n",
    "  # For each column\n",
    "    for j in range(image.shape[1]):\n",
    "      for i in range(image.shape[0]):\n",
    "        if(j%2==0):\n",
    "          r[i][j] = r[i][j] ^ Kr[i]\n",
    "          g[i][j] = g[i][j] ^ Kr[i]\n",
    "          b[i][j] = b[i][j] ^ Kr[i]\n",
    "        else:\n",
    "          r[i][j] = r[i][j] ^ rotate(Kr[i])\n",
    "          g[i][j] = g[i][j] ^ rotate(Kr[i])\n",
    "          b[i][j] = b[i][j] ^ rotate(Kr[i])\n",
    "  \n",
    "  encrypted_img = np.stack((r,g,b), axis=2)\n",
    "  return encrypted_img"
   ]
  },
  {
   "cell_type": "code",
   "execution_count": 14,
   "metadata": {},
   "outputs": [
    {
     "ename": "FileNotFoundError",
     "evalue": "[Errno 2] No such file or directory: 'key.json'",
     "output_type": "error",
     "traceback": [
      "\u001b[1;31m---------------------------------------------------------------------------\u001b[0m",
      "\u001b[1;31mFileNotFoundError\u001b[0m                         Traceback (most recent call last)",
      "Cell \u001b[1;32mIn[14], line 13\u001b[0m\n\u001b[0;32m      9\u001b[0m dict_key \u001b[39m=\u001b[39m create_key(image, ITER_MAX\u001b[39m=\u001b[39m\u001b[39m1\u001b[39m)\n\u001b[0;32m     11\u001b[0m save_key(dict_key, save_path\u001b[39m=\u001b[39mkey_path)\n\u001b[1;32m---> 13\u001b[0m en_image \u001b[39m=\u001b[39m encrypt_image(image)\n\u001b[0;32m     14\u001b[0m fig, ax \u001b[39m=\u001b[39m plt\u001b[39m.\u001b[39msubplots(\u001b[39m1\u001b[39m, \u001b[39m2\u001b[39m, figsize\u001b[39m=\u001b[39m(\u001b[39m20\u001b[39m, \u001b[39m20\u001b[39m))\n\u001b[0;32m     15\u001b[0m ax[\u001b[39m0\u001b[39m]\u001b[39m.\u001b[39mimshow(image)\n",
      "Cell \u001b[1;32mIn[13], line 3\u001b[0m, in \u001b[0;36mencrypt_image\u001b[1;34m(image, key_path)\u001b[0m\n\u001b[0;32m      1\u001b[0m \u001b[39mdef\u001b[39;00m \u001b[39mencrypt_image\u001b[39m(image, key_path\u001b[39m=\u001b[39m\u001b[39m\"\u001b[39m\u001b[39mkey.json\u001b[39m\u001b[39m\"\u001b[39m):\n\u001b[0;32m      2\u001b[0m   \u001b[39m# Load Key\u001b[39;00m\n\u001b[1;32m----> 3\u001b[0m   Kr, Kc, ITER_MAX \u001b[39m=\u001b[39m load_key(save_path\u001b[39m=\u001b[39;49mkey_path)\n\u001b[0;32m      5\u001b[0m   \u001b[39m# Split channels\u001b[39;00m\n\u001b[0;32m      6\u001b[0m   r \u001b[39m=\u001b[39m np\u001b[39m.\u001b[39marray(image[:, :, \u001b[39m0\u001b[39m])\n",
      "Cell \u001b[1;32mIn[12], line 2\u001b[0m, in \u001b[0;36mload_key\u001b[1;34m(save_path)\u001b[0m\n\u001b[0;32m      1\u001b[0m \u001b[39mdef\u001b[39;00m \u001b[39mload_key\u001b[39m(save_path\u001b[39m=\u001b[39m\u001b[39m\"\u001b[39m\u001b[39mkey.json\u001b[39m\u001b[39m\"\u001b[39m):\n\u001b[1;32m----> 2\u001b[0m     \u001b[39mwith\u001b[39;00m \u001b[39mopen\u001b[39;49m(save_path, \u001b[39m\"\u001b[39;49m\u001b[39mr\u001b[39;49m\u001b[39m\"\u001b[39;49m) \u001b[39mas\u001b[39;00m F:\n\u001b[0;32m      3\u001b[0m         dict_key \u001b[39m=\u001b[39m json\u001b[39m.\u001b[39mload(F)\n\u001b[0;32m      5\u001b[0m     Kr \u001b[39m=\u001b[39m dict_key[\u001b[39m\"\u001b[39m\u001b[39mKr\u001b[39m\u001b[39m\"\u001b[39m]\n",
      "File \u001b[1;32mc:\\Users\\Lenovo\\Envs\\stegovenv\\lib\\site-packages\\IPython\\core\\interactiveshell.py:282\u001b[0m, in \u001b[0;36m_modified_open\u001b[1;34m(file, *args, **kwargs)\u001b[0m\n\u001b[0;32m    275\u001b[0m \u001b[39mif\u001b[39;00m file \u001b[39min\u001b[39;00m {\u001b[39m0\u001b[39m, \u001b[39m1\u001b[39m, \u001b[39m2\u001b[39m}:\n\u001b[0;32m    276\u001b[0m     \u001b[39mraise\u001b[39;00m \u001b[39mValueError\u001b[39;00m(\n\u001b[0;32m    277\u001b[0m         \u001b[39mf\u001b[39m\u001b[39m\"\u001b[39m\u001b[39mIPython won\u001b[39m\u001b[39m'\u001b[39m\u001b[39mt let you open fd=\u001b[39m\u001b[39m{\u001b[39;00mfile\u001b[39m}\u001b[39;00m\u001b[39m by default \u001b[39m\u001b[39m\"\u001b[39m\n\u001b[0;32m    278\u001b[0m         \u001b[39m\"\u001b[39m\u001b[39mas it is likely to crash IPython. If you know what you are doing, \u001b[39m\u001b[39m\"\u001b[39m\n\u001b[0;32m    279\u001b[0m         \u001b[39m\"\u001b[39m\u001b[39myou can use builtins\u001b[39m\u001b[39m'\u001b[39m\u001b[39m open.\u001b[39m\u001b[39m\"\u001b[39m\n\u001b[0;32m    280\u001b[0m     )\n\u001b[1;32m--> 282\u001b[0m \u001b[39mreturn\u001b[39;00m io_open(file, \u001b[39m*\u001b[39margs, \u001b[39m*\u001b[39m\u001b[39m*\u001b[39mkwargs)\n",
      "\u001b[1;31mFileNotFoundError\u001b[0m: [Errno 2] No such file or directory: 'key.json'"
     ]
    }
   ],
   "source": [
    "import matplotlib.pyplot as plt\n",
    "image_path = \"../Images/lena.jpg\"\n",
    "key_path = \"../Keys/key.json\"\n",
    "encrypted_path = \"../Images/encrypted_image.jpg\"\n",
    "master_key = 0x2b7e151628aed2a6abf7158809cf4f3c\n",
    "\n",
    "image = read_image(image_path)\n",
    "\n",
    "dict_key = create_key(image, ITER_MAX=1)\n",
    "\n",
    "save_key(dict_key, save_path=key_path)\n",
    "\n",
    "en_image = encrypt_image(image)\n",
    "fig, ax = plt.subplots(1, 2, figsize=(20, 20))\n",
    "ax[0].imshow(image)\n",
    "ax[0].set_title(\"Original Image\")\n",
    "\n",
    "ax[1].imshow(en_image)\n",
    "ax[1].set_title(\"Encrypted Image\")\n",
    "fig.show()"
   ]
  },
  {
   "cell_type": "code",
   "execution_count": null,
   "metadata": {},
   "outputs": [],
   "source": [
    "import cv2 \n",
    "import random\n",
    "import numpy as np\n",
    "import sys"
   ]
  },
  {
   "cell_type": "code",
   "execution_count": null,
   "metadata": {},
   "outputs": [],
   "source": [
    "def decrypt_image(encrypted_image, key_path=\"key.json\"):\n",
    "  # Load key\n",
    "  Kr, Kc, ITER_MAX = load_key(save_path=key_path)\n",
    "\n",
    "  # Split channels\n",
    "  r = np.array(encrypted_image[:, :, 0])\n",
    "  g = np.array(encrypted_image[:, :, 1])\n",
    "  b = np.array(encrypted_image[:, :, 2])\n",
    "\n",
    "  for iteration in range(ITER_MAX):\n",
    "    # For each column\n",
    "    for j in range(encrypted_image.shape[1]):\n",
    "      for i in range(encrypted_image.shape[0]):\n",
    "        if(j%2==0): \n",
    "          r[i][j] = r[i][j] ^ Kr[i]\n",
    "          g[i][j] = g[i][j] ^ Kr[i]\n",
    "          b[i][j] = b[i][j] ^ Kr[i]\n",
    "        else:\n",
    "          r[i][j] = r[i][j] ^ rotate(Kr[i])\n",
    "          g[i][j] = g[i][j] ^ rotate(Kr[i])\n",
    "          b[i][j] = b[i][j] ^ rotate(Kr[i])\n",
    "  \n",
    "    # For each row\n",
    "    for i in range(encrypted_image.shape[0]):\n",
    "      for j in range(encrypted_image.shape[1]):\n",
    "        if(i%2==1):\n",
    "          r[i][j] = r[i][j] ^ Kc[j]\n",
    "          g[i][j] = g[i][j] ^ Kc[j]\n",
    "          b[i][j] = b[i][j] ^ Kc[j]\n",
    "        else:\n",
    "          r[i][j] = r[i][j] ^ rotate(Kc[j])\n",
    "          g[i][j] = g[i][j] ^ rotate(Kc[j])\n",
    "          b[i][j] = b[i][j] ^ rotate(Kc[j])\n",
    "\n",
    "    # For each column \n",
    "    for i in range(encrypted_image.shape[1]):\n",
    "      r_modulus = sum(r[:, i]) % 2\n",
    "      g_modulus = sum(g[:, i]) % 2\n",
    "      b_modulus = sum(b[:, i]) % 2\n",
    "      r = upshift(r, i, Kc[i]) if r_modulus else downshift(r, i, Kc[i])\n",
    "      g = upshift(g, i, Kc[i]) if g_modulus else downshift(g, i, Kc[i])\n",
    "      b = upshift(b, i, Kc[i]) if b_modulus else downshift(b, i, Kc[i])\n",
    "\n",
    "    # For each row\n",
    "    for i in range(encrypted_image.shape[0]):\n",
    "      r_modulus = sum(r[i]) % 2 \n",
    "      g_modulus = sum(g[i]) % 2\n",
    "      b_modulus = sum(b[i]) % 2\n",
    "      r[i] = np.roll(r[i], Kr[i]) if r_modulus else np.roll(r[i], -Kr[i])\n",
    "      g[i] = np.roll(g[i], Kr[i]) if g_modulus else np.roll(g[i], -Kr[i])\n",
    "      b[i] = np.roll(b[i], Kr[i]) if b_modulus else np.roll(b[i], -Kr[i])\n",
    "  \n",
    "  decrypted_img = np.stack((r, g, b), axis=2)\n",
    "  return decrypted_img"
   ]
  },
  {
   "cell_type": "code",
   "execution_count": 15,
   "metadata": {},
   "outputs": [
    {
     "ename": "NameError",
     "evalue": "name 'decrypt_image' is not defined",
     "output_type": "error",
     "traceback": [
      "\u001b[1;31m---------------------------------------------------------------------------\u001b[0m",
      "\u001b[1;31mNameError\u001b[0m                                 Traceback (most recent call last)",
      "Cell \u001b[1;32mIn[15], line 7\u001b[0m\n\u001b[0;32m      5\u001b[0m encrypted_image \u001b[39m=\u001b[39m read_image(encrypted_path)\n\u001b[0;32m      6\u001b[0m \u001b[39m# encrypted_image = en_image\u001b[39;00m\n\u001b[1;32m----> 7\u001b[0m de_img \u001b[39m=\u001b[39m decrypt_image(encrypted_image,key_path)\n\u001b[0;32m      9\u001b[0m fig , ax \u001b[39m=\u001b[39m plt\u001b[39m.\u001b[39msubplots(\u001b[39m1\u001b[39m, \u001b[39m2\u001b[39m, figsize\u001b[39m=\u001b[39m(\u001b[39m20\u001b[39m, \u001b[39m20\u001b[39m))\n\u001b[0;32m     10\u001b[0m ax[\u001b[39m0\u001b[39m]\u001b[39m.\u001b[39mimshow(encrypted_image)\n",
      "\u001b[1;31mNameError\u001b[0m: name 'decrypt_image' is not defined"
     ]
    }
   ],
   "source": [
    "key_path = \"key.json\"\n",
    "decrypted_path = \"decrypted_image.jpg\"\n",
    "encrypted_path = \"encrypted_image.jpg\"\n",
    "\n",
    "\n",
    "encrypted_image = read_image(encrypted_path)\n",
    "encrypted_image = en_image\n",
    "de_img = decrypt_image(encrypted_image,key_path)\n",
    "\n",
    "fig , ax = plt.subplots(1, 2, figsize=(20, 20))\n",
    "ax[0].imshow(encrypted_image)\n",
    "ax[0].set_title(\"Encrypted Image\")\n",
    "\n",
    "ax[1].imshow(de_img)\n",
    "ax[1].set_title(\"Decrypted Image\")\n",
    "fig.show()"
   ]
  }
 ],
 "metadata": {
  "kernelspec": {
   "display_name": "stegovenv",
   "language": "python",
   "name": "python3"
  },
  "language_info": {
   "codemirror_mode": {
    "name": "ipython",
    "version": 3
   },
   "file_extension": ".py",
   "mimetype": "text/x-python",
   "name": "python",
   "nbconvert_exporter": "python",
   "pygments_lexer": "ipython3",
   "version": "3.10.10"
  },
  "orig_nbformat": 4
 },
 "nbformat": 4,
 "nbformat_minor": 2
}
